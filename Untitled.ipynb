{
 "cells": [
  {
   "cell_type": "markdown",
   "id": "5714cc08",
   "metadata": {},
   "source": [
    "# Task 3: Data Manipulation"
   ]
  },
  {
   "cell_type": "code",
   "execution_count": 18,
   "id": "fc8e6c73",
   "metadata": {},
   "outputs": [
    {
     "data": {
      "text/html": [
       "<div>\n",
       "<style scoped>\n",
       "    .dataframe tbody tr th:only-of-type {\n",
       "        vertical-align: middle;\n",
       "    }\n",
       "\n",
       "    .dataframe tbody tr th {\n",
       "        vertical-align: top;\n",
       "    }\n",
       "\n",
       "    .dataframe thead th {\n",
       "        text-align: right;\n",
       "    }\n",
       "</style>\n",
       "<table border=\"1\" class=\"dataframe\">\n",
       "  <thead>\n",
       "    <tr style=\"text-align: right;\">\n",
       "      <th></th>\n",
       "      <th>Month</th>\n",
       "      <th>Product</th>\n",
       "      <th>Revenue</th>\n",
       "      <th>Profit</th>\n",
       "    </tr>\n",
       "  </thead>\n",
       "  <tbody>\n",
       "    <tr>\n",
       "      <th>0</th>\n",
       "      <td>2020-01-12</td>\n",
       "      <td>PayAlto</td>\n",
       "      <td>84021.66</td>\n",
       "      <td>909.11</td>\n",
       "    </tr>\n",
       "    <tr>\n",
       "      <th>1</th>\n",
       "      <td>2020-02-12</td>\n",
       "      <td>PayAlto</td>\n",
       "      <td>165429.59</td>\n",
       "      <td>5395.30</td>\n",
       "    </tr>\n",
       "    <tr>\n",
       "      <th>2</th>\n",
       "      <td>2020-03-12</td>\n",
       "      <td>PayAlto</td>\n",
       "      <td>291906.14</td>\n",
       "      <td>12144.56</td>\n",
       "    </tr>\n",
       "    <tr>\n",
       "      <th>3</th>\n",
       "      <td>2020-04-12</td>\n",
       "      <td>PayAlto</td>\n",
       "      <td>357797.28</td>\n",
       "      <td>5604.51</td>\n",
       "    </tr>\n",
       "    <tr>\n",
       "      <th>4</th>\n",
       "      <td>2020-05-12</td>\n",
       "      <td>PayAlto</td>\n",
       "      <td>375421.56</td>\n",
       "      <td>6400.34</td>\n",
       "    </tr>\n",
       "  </tbody>\n",
       "</table>\n",
       "</div>"
      ],
      "text/plain": [
       "        Month  Product    Revenue    Profit\n",
       "0  2020-01-12  PayAlto   84021.66    909.11\n",
       "1  2020-02-12  PayAlto  165429.59   5395.30\n",
       "2  2020-03-12  PayAlto  291906.14  12144.56\n",
       "3  2020-04-12  PayAlto  357797.28   5604.51\n",
       "4  2020-05-12  PayAlto  375421.56   6400.34"
      ]
     },
     "execution_count": 18,
     "metadata": {},
     "output_type": "execute_result"
    }
   ],
   "source": [
    "import pandas as pd\n",
    "\n",
    "df = pd.read_csv('data_BA.csv')\n",
    "df.head()"
   ]
  },
  {
   "cell_type": "code",
   "execution_count": 19,
   "id": "c18abf3a",
   "metadata": {},
   "outputs": [
    {
     "name": "stdout",
     "output_type": "stream",
     "text": [
      "                   Revenue      Profit\n",
      "Product Year                          \n",
      "Mobiamo 2020  3.268056e+08  6426827.26\n",
      "PayAlto 2020  3.694835e+08  7762974.27\n"
     ]
    }
   ],
   "source": [
    "# Calculate annual Revenue and Profit for each product\n",
    "df[\"Month\"] = pd.to_datetime(df[\"Month\"])\n",
    "\n",
    "df[\"Year\"] = df[\"Month\"].dt.year\n",
    "\n",
    "table1 = df.groupby([\"Product\", \"Year\"]).agg({\"Revenue\": \"sum\", \"Profit\": \"sum\"})\n",
    "\n",
    "print(table1)"
   ]
  },
  {
   "cell_type": "code",
   "execution_count": 20,
   "id": "41684c34",
   "metadata": {
    "scrolled": true
   },
   "outputs": [
    {
     "name": "stdout",
     "output_type": "stream",
     "text": [
      "   Product Project Manager\n",
      "0  PayAlto        John Doe\n",
      "1  Mobiamo    Kelly Nguyen\n"
     ]
    }
   ],
   "source": [
    "# Create a dictionary for product-project manager \n",
    "product_pm_dict = {'PayAlto': 'John Doe', 'Mobiamo': 'Kelly Nguyen'}\n",
    "\n",
    "pm_product_table = pd.DataFrame(list(product_pm_dict.items()), columns=['Product', 'Project Manager'])\n",
    "\n",
    "print(pm_product_table)"
   ]
  },
  {
   "cell_type": "code",
   "execution_count": 21,
   "id": "ee839afd",
   "metadata": {},
   "outputs": [
    {
     "name": "stdout",
     "output_type": "stream",
     "text": [
      "                   Revenue      Profit            PM\n",
      "Product Year                                        \n",
      "Mobiamo 2020  3.268056e+08  6426827.26      John Doe\n",
      "PayAlto 2020  3.694835e+08  7762974.27  Kelly Nguyen\n"
     ]
    }
   ],
   "source": [
    "# Create a new column for PM in Table1\n",
    "table1[\"PM\"] = [\"John Doe\", \"Kelly Nguyen\"]\n",
    "\n",
    "print(table1)"
   ]
  },
  {
   "cell_type": "code",
   "execution_count": 22,
   "id": "e8551595",
   "metadata": {},
   "outputs": [
    {
     "name": "stdout",
     "output_type": "stream",
     "text": [
      "   Product  Year            PM   Metric         Value\n",
      "0  Mobiamo  2020      John Doe  Revenue  3.268056e+08\n",
      "1  PayAlto  2020  Kelly Nguyen  Revenue  3.694835e+08\n",
      "2  Mobiamo  2020      John Doe   Profit  6.426827e+06\n",
      "3  PayAlto  2020  Kelly Nguyen   Profit  7.762974e+06\n"
     ]
    }
   ],
   "source": [
    "# Transform the table to long format\n",
    "table1_long = table1.reset_index().melt(id_vars=[\"Product\", \"Year\", \"PM\"], var_name=\"Metric\", value_name=\"Value\")\n",
    "\n",
    "print(table1_long)"
   ]
  }
 ],
 "metadata": {
  "kernelspec": {
   "display_name": "Python 3 (ipykernel)",
   "language": "python",
   "name": "python3"
  },
  "language_info": {
   "codemirror_mode": {
    "name": "ipython",
    "version": 3
   },
   "file_extension": ".py",
   "mimetype": "text/x-python",
   "name": "python",
   "nbconvert_exporter": "python",
   "pygments_lexer": "ipython3",
   "version": "3.10.9"
  }
 },
 "nbformat": 4,
 "nbformat_minor": 5
}
